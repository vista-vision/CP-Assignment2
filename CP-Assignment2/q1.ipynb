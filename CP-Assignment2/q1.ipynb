{
 "cells": [
  {
   "cell_type": "code",
   "execution_count": 77,
   "metadata": {},
   "outputs": [
    {
     "name": "stdout",
     "output_type": "stream",
     "text": [
      "[[1, 0, 3], [4, 5, 1], [2, 3, 1]]\n",
      "[[0, 0, 3], [2, 4, 7], [0, 1, 3]]\n",
      "[[0, 2, 3]]\n",
      "[[4, 0, 1]]\n"
     ]
    }
   ],
   "source": [
    "#   Obtaining the matrices from their respective files\n",
    "\n",
    "%run \"A\"\n",
    "%run \"B\"\n",
    "%run \"C\"\n",
    "%run \"D\"\n",
    "\n",
    "#Check if desired result is obtained\n",
    "print(m) #m is the nested list structure of A\n",
    "print(n) #n is the nested list structure of B\n",
    "print(o) #o is the nested list structure of C\n",
    "print(p) #p is the nested list structure of D"
   ]
  },
  {
   "cell_type": "code",
   "execution_count": 84,
   "metadata": {},
   "outputs": [
    {
     "name": "stdout",
     "output_type": "stream",
     "text": [
      "[[3]]\n",
      "The matrix product is: \n",
      "3 \n"
     ]
    }
   ],
   "source": [
    "#   Matrix multiplication - CD\n",
    "\n",
    "#Finding D transpose\n",
    "t=[]\n",
    "y=[]\n",
    "for j in range(len(p[0])):\n",
    "    for i in range(len(p)):\n",
    "        t.append(p[i][j])\n",
    "    y.append(t)\n",
    "    t=[]\n",
    "\n",
    "#Multiplication\n",
    "x=0\n",
    "list=[]\n",
    "matrix=[]\n",
    "for i in range(len(o)):\n",
    "    for k in range(len(y[0])):\n",
    "        for j in range(len(y)):\n",
    "            x+=o[i][j]*y[j][k]\n",
    "        list.append(x)\n",
    "        x=0\n",
    "    matrix.append(list)\n",
    "    list=[]\n",
    "\n",
    "#Check if desired result is created\n",
    "print(matrix)\n",
    "\n",
    "#Print the matrix product\n",
    "print('The matrix product is: ')\n",
    "for i in matrix:\n",
    "    for j in i:\n",
    "        print('%s ' %(j),end='')\n",
    "    print()"
   ]
  },
  {
   "cell_type": "code",
   "execution_count": 83,
   "metadata": {},
   "outputs": [
    {
     "name": "stdout",
     "output_type": "stream",
     "text": [
      "[[0, 3, 12], [10, 21, 50], [6, 13, 30]]\n",
      "The matrix product is: \n",
      "0 3 12 \n",
      "10 21 50 \n",
      "6 13 30 \n"
     ]
    }
   ],
   "source": [
    "#   Matrix multiplication - AB\n",
    "\n",
    "x=0\n",
    "list=[]\n",
    "matrix=[]\n",
    "\n",
    "for i in range(len(m)):\n",
    "    for k in range(len(n[0])):\n",
    "        for j in range(len(n)):\n",
    "            x+=m[i][j]*n[j][k]\n",
    "        list.append(x)\n",
    "        x=0\n",
    "    matrix.append(list)\n",
    "    list=[]\n",
    "\n",
    "#Check if desired result is created\n",
    "print(matrix)\n",
    "\n",
    "#Print the matrix product\n",
    "print('The matrix product is: ')\n",
    "for i in matrix:\n",
    "    for j in i:\n",
    "        print('%s ' %(j),end='')\n",
    "    print()\n"
   ]
  },
  {
   "cell_type": "code",
   "execution_count": 85,
   "metadata": {},
   "outputs": [
    {
     "name": "stdout",
     "output_type": "stream",
     "text": [
      "[[14, 19, 5]]\n",
      "The matrix product is: \n",
      "14 19 5 \n"
     ]
    }
   ],
   "source": [
    "#   Matrix multiplication - CA\n",
    "\n",
    "x=0\n",
    "list=[]\n",
    "matrix=[]\n",
    "\n",
    "for i in range(len(o)):\n",
    "    for k in range(len(m[0])):\n",
    "        for j in range(len(m)):\n",
    "            x+=o[i][j]*m[j][k]\n",
    "        list.append(x)\n",
    "        x=0\n",
    "    matrix.append(list)\n",
    "    list=[]\n",
    "\n",
    "#Check if desired result is created\n",
    "print(matrix)\n",
    "\n",
    "#Print the matrix product\n",
    "print('The matrix product is: ')\n",
    "for i in matrix:\n",
    "    for j in i:\n",
    "        print('%s ' %(j),end='')\n",
    "    print()"
   ]
  },
  {
   "cell_type": "code",
   "execution_count": 81,
   "metadata": {},
   "outputs": [
    {
     "name": "stdout",
     "output_type": "stream",
     "text": [
      "[[3], [15], [3]]\n",
      "The matrix product is: \n",
      "3 \n",
      "15 \n",
      "3 \n"
     ]
    }
   ],
   "source": [
    "#   Matrix multiplication - BD\n",
    "\n",
    "#y is the nested list structure of D transpose (created in cell 2)\n",
    "\n",
    "x=0\n",
    "list=[]\n",
    "matrix=[]\n",
    "\n",
    "for i in range(len(n)):\n",
    "    for k in range(len(y[0])):\n",
    "        for j in range(len(m)):\n",
    "            x+=n[i][j]*y[j][k]\n",
    "        list.append(x)\n",
    "        x=0\n",
    "    matrix.append(list)\n",
    "    list=[]\n",
    "\n",
    "#Check if desired result is created\n",
    "print(matrix)\n",
    "\n",
    "#Print the matrix product\n",
    "print('The matrix product is: ')\n",
    "for i in matrix:\n",
    "    for j in i:\n",
    "        print('%s ' %(j),end='')\n",
    "    print()"
   ]
  }
 ],
 "metadata": {
  "interpreter": {
   "hash": "06cb67651ce969e244f20f184e33f4ddb1106793adfe07cf7ddc131c95c4012f"
  },
  "kernelspec": {
   "display_name": "Python 3 (ipykernel)",
   "language": "python",
   "name": "python3"
  },
  "language_info": {
   "codemirror_mode": {
    "name": "ipython",
    "version": 3
   },
   "file_extension": ".py",
   "mimetype": "text/x-python",
   "name": "python",
   "nbconvert_exporter": "python",
   "pygments_lexer": "ipython3",
   "version": "3.9.6"
  }
 },
 "nbformat": 4,
 "nbformat_minor": 2
}
