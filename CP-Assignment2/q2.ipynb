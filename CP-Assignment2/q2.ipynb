{
 "cells": [
  {
   "cell_type": "code",
   "execution_count": 30,
   "source": [
    "class myComplex:\r\n",
    "  \r\n",
    "    def __init__(self,real,imaginary=0.0):\r\n",
    "        self.r = real\r\n",
    "        self.i = imaginary\r\n",
    "\r\n",
    "    def sum(self,a):\r\n",
    "        s = (self.r + a.r, self.i + a.i)\r\n",
    "        return s\r\n",
    "\r\n",
    "    def product(self,a):\r\n",
    "        p = ((self.r)*(a.r) + (self.i)*(a.i)) , ((self.r)*(a.i) + (self.i)*(a.r))\r\n",
    "        return p\r\n",
    "\r\n",
    "    def div(self,a):\r\n",
    "        q = (((self.r)*(a.r) - (self.i)*(a.i))/((a.r)**2 + (a.i)**2) , ((self.r)*(a.i) + (self.i)*(a.r))/((a.r)**2 + (a.i)**2))\r\n",
    "        return q\r\n",
    "\r\n",
    "    def conj(self):\r\n",
    "        c = (self.r , (self.i)*(-1))\r\n",
    "        return c\r\n",
    "\r\n",
    "    def mod(self):\r\n",
    "        mod = (self.r)**2 + (self.i)**2\r\n",
    "        return mod\r\n",
    "\r\n",
    "    def phase_angle(a,b):\r\n",
    "        import math\r\n",
    "        if a==0:\r\n",
    "            print('Phase angle = 90 degrees')\r\n",
    "        else:\r\n",
    "            return(math.atan(b/a))\r\n",
    "        return a\r\n",
    "\r\n",
    "w = myComplex(10+2j)\r\n",
    "q = myComplex(5+0j)\r\n",
    "print(myComplex.sum(q,w))\r\n",
    "print(myComplex.product(q,w))\r\n",
    "print(myComplex.div(w,q))\r\n",
    "print(myComplex.conj(w))\r\n",
    "print(myComplex.mod(q))\r\n",
    "print(myComplex.phase_angle(3,9))"
   ],
   "outputs": [
    {
     "output_type": "stream",
     "name": "stdout",
     "text": [
      "((15+2j), 0.0)\n",
      "((50+10j), 0j)\n",
      "((2+0.4j), 0j)\n",
      "((10+2j), -0.0)\n",
      "(25+0j)\n",
      "1.2490457723982544\n"
     ]
    }
   ],
   "metadata": {}
  }
 ],
 "metadata": {
  "orig_nbformat": 4,
  "language_info": {
   "name": "python",
   "version": "3.9.6",
   "mimetype": "text/x-python",
   "codemirror_mode": {
    "name": "ipython",
    "version": 3
   },
   "pygments_lexer": "ipython3",
   "nbconvert_exporter": "python",
   "file_extension": ".py"
  },
  "kernelspec": {
   "name": "python3",
   "display_name": "Python 3.9.6 64-bit"
  },
  "interpreter": {
   "hash": "06cb67651ce969e244f20f184e33f4ddb1106793adfe07cf7ddc131c95c4012f"
  }
 },
 "nbformat": 4,
 "nbformat_minor": 2
}