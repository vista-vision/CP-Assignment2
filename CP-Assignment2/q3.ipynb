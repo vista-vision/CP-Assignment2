{
 "cells": [
  {
   "cell_type": "code",
   "execution_count": 9,
   "source": [
    "def avg_dist(n):\r\n",
    "    \r\n",
    "    s=0\r\n",
    "    for i in range(n):\r\n",
    "        q=0\r\n",
    "        add1=0\r\n",
    "        for j in range(i):\r\n",
    "            q+=1\r\n",
    "            add1+=q\r\n",
    "\r\n",
    "        p=0\r\n",
    "        add2=0\r\n",
    "        for k in range(i,n):\r\n",
    "            add2+=p\r\n",
    "            p+=1\r\n",
    "\r\n",
    "        s=s+add1+add2\r\n",
    "        div=n**2\r\n",
    "\r\n",
    "    return s/div\r\n",
    "\r\n",
    "print(avg_dist(1))\r\n",
    "print(avg_dist(3))"
   ],
   "outputs": [
    {
     "output_type": "stream",
     "name": "stdout",
     "text": [
      "0.0\n",
      "0.8888888888888888\n"
     ]
    }
   ],
   "metadata": {}
  }
 ],
 "metadata": {
  "orig_nbformat": 4,
  "language_info": {
   "name": "python",
   "version": "3.9.6",
   "mimetype": "text/x-python",
   "codemirror_mode": {
    "name": "ipython",
    "version": 3
   },
   "pygments_lexer": "ipython3",
   "nbconvert_exporter": "python",
   "file_extension": ".py"
  },
  "kernelspec": {
   "name": "python3",
   "display_name": "Python 3.9.6 64-bit"
  },
  "interpreter": {
   "hash": "06cb67651ce969e244f20f184e33f4ddb1106793adfe07cf7ddc131c95c4012f"
  }
 },
 "nbformat": 4,
 "nbformat_minor": 2
}