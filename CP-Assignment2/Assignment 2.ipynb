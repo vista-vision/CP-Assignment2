{
 "cells": [
  {
   "cell_type": "code",
   "execution_count": 77,
   "source": [
    "#   Obtaining the matrices from their respective files\r\n",
    "\r\n",
    "%run \"A\"\r\n",
    "%run \"B\"\r\n",
    "%run \"C\"\r\n",
    "%run \"D\"\r\n",
    "\r\n",
    "#Check if desired result is obtained\r\n",
    "print(m) #m is the nested list structure of A\r\n",
    "print(n) #n is the nested list structure of B\r\n",
    "print(o) #o is the nested list structure of C\r\n",
    "print(p) #p is the nested list structure of D"
   ],
   "outputs": [
    {
     "output_type": "stream",
     "name": "stdout",
     "text": [
      "[[1, 0, 3], [4, 5, 1], [2, 3, 1]]\n",
      "[[0, 0, 3], [2, 4, 7], [0, 1, 3]]\n",
      "[[0, 2, 3]]\n",
      "[[4, 0, 1]]\n"
     ]
    }
   ],
   "metadata": {}
  },
  {
   "cell_type": "code",
   "execution_count": 84,
   "source": [
    "#   Matrix multiplication - CD\r\n",
    "\r\n",
    "#Finding D transpose\r\n",
    "t=[]\r\n",
    "y=[]\r\n",
    "for j in range(len(p[0])):\r\n",
    "    for i in range(len(p)):\r\n",
    "        t.append(p[i][j])\r\n",
    "    y.append(t)\r\n",
    "    t=[]\r\n",
    "\r\n",
    "#Multiplication\r\n",
    "x=0\r\n",
    "list=[]\r\n",
    "matrix=[]\r\n",
    "for i in range(len(o)):\r\n",
    "    for k in range(len(y[0])):\r\n",
    "        for j in range(len(y)):\r\n",
    "            x+=o[i][j]*y[j][k]\r\n",
    "        list.append(x)\r\n",
    "        x=0\r\n",
    "    matrix.append(list)\r\n",
    "    list=[]\r\n",
    "\r\n",
    "#Check if desired result is created\r\n",
    "print(matrix)\r\n",
    "\r\n",
    "#Print the matrix product\r\n",
    "print('The matrix product is: ')\r\n",
    "for i in matrix:\r\n",
    "    for j in i:\r\n",
    "        print('%s ' %(j),end='')\r\n",
    "    print()"
   ],
   "outputs": [
    {
     "output_type": "stream",
     "name": "stdout",
     "text": [
      "[[3]]\n",
      "The matrix product is: \n",
      "3 \n"
     ]
    }
   ],
   "metadata": {}
  },
  {
   "cell_type": "code",
   "execution_count": 83,
   "source": [
    "#   Matrix multiplication - AB\r\n",
    "\r\n",
    "x=0\r\n",
    "list=[]\r\n",
    "matrix=[]\r\n",
    "\r\n",
    "for i in range(len(m)):\r\n",
    "    for k in range(len(n[0])):\r\n",
    "        for j in range(len(n)):\r\n",
    "            x+=m[i][j]*n[j][k]\r\n",
    "        list.append(x)\r\n",
    "        x=0\r\n",
    "    matrix.append(list)\r\n",
    "    list=[]\r\n",
    "\r\n",
    "#Check if desired result is created\r\n",
    "print(matrix)\r\n",
    "\r\n",
    "#Print the matrix product\r\n",
    "print('The matrix product is: ')\r\n",
    "for i in matrix:\r\n",
    "    for j in i:\r\n",
    "        print('%s ' %(j),end='')\r\n",
    "    print()\r\n"
   ],
   "outputs": [
    {
     "output_type": "stream",
     "name": "stdout",
     "text": [
      "[[0, 3, 12], [10, 21, 50], [6, 13, 30]]\n",
      "The matrix product is: \n",
      "0 3 12 \n",
      "10 21 50 \n",
      "6 13 30 \n"
     ]
    }
   ],
   "metadata": {}
  },
  {
   "cell_type": "code",
   "execution_count": 85,
   "source": [
    "#   Matrix multiplication - CA\r\n",
    "\r\n",
    "x=0\r\n",
    "list=[]\r\n",
    "matrix=[]\r\n",
    "\r\n",
    "for i in range(len(o)):\r\n",
    "    for k in range(len(m[0])):\r\n",
    "        for j in range(len(m)):\r\n",
    "            x+=o[i][j]*m[j][k]\r\n",
    "        list.append(x)\r\n",
    "        x=0\r\n",
    "    matrix.append(list)\r\n",
    "    list=[]\r\n",
    "\r\n",
    "#Check if desired result is created\r\n",
    "print(matrix)\r\n",
    "\r\n",
    "#Print the matrix product\r\n",
    "print('The matrix product is: ')\r\n",
    "for i in matrix:\r\n",
    "    for j in i:\r\n",
    "        print('%s ' %(j),end='')\r\n",
    "    print()"
   ],
   "outputs": [
    {
     "output_type": "stream",
     "name": "stdout",
     "text": [
      "[[14, 19, 5]]\n",
      "The matrix product is: \n",
      "14 19 5 \n"
     ]
    }
   ],
   "metadata": {}
  },
  {
   "cell_type": "code",
   "execution_count": 81,
   "source": [
    "#   Matrix multiplication - BD\r\n",
    "\r\n",
    "#y is the nested list structure of D transpose (created in cell 2)\r\n",
    "\r\n",
    "x=0\r\n",
    "list=[]\r\n",
    "matrix=[]\r\n",
    "\r\n",
    "for i in range(len(n)):\r\n",
    "    for k in range(len(y[0])):\r\n",
    "        for j in range(len(m)):\r\n",
    "            x+=n[i][j]*y[j][k]\r\n",
    "        list.append(x)\r\n",
    "        x=0\r\n",
    "    matrix.append(list)\r\n",
    "    list=[]\r\n",
    "\r\n",
    "#Check if desired result is created\r\n",
    "print(matrix)\r\n",
    "\r\n",
    "#Print the matrix product\r\n",
    "print('The matrix product is: ')\r\n",
    "for i in matrix:\r\n",
    "    for j in i:\r\n",
    "        print('%s ' %(j),end='')\r\n",
    "    print()"
   ],
   "outputs": [
    {
     "output_type": "stream",
     "name": "stdout",
     "text": [
      "[[3], [15], [3]]\n",
      "The matrix product is: \n",
      "3 \n",
      "15 \n",
      "3 \n"
     ]
    }
   ],
   "metadata": {}
  }
 ],
 "metadata": {
  "orig_nbformat": 4,
  "language_info": {
   "name": "python",
   "version": "3.9.6",
   "mimetype": "text/x-python",
   "codemirror_mode": {
    "name": "ipython",
    "version": 3
   },
   "pygments_lexer": "ipython3",
   "nbconvert_exporter": "python",
   "file_extension": ".py"
  },
  "kernelspec": {
   "name": "python3",
   "display_name": "Python 3.9.6 64-bit"
  },
  "interpreter": {
   "hash": "06cb67651ce969e244f20f184e33f4ddb1106793adfe07cf7ddc131c95c4012f"
  }
 },
 "nbformat": 4,
 "nbformat_minor": 2
}